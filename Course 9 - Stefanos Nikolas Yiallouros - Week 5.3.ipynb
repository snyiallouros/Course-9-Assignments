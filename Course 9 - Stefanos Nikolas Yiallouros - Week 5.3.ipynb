{
    "cells": [
        {
            "metadata": {
                "collapsed": true
            },
            "cell_type": "markdown",
            "source": "#  $\\;\\;\\;\\;\\;\\;\\;\\;\\;\\;\\;\\;\\;\\;\\;\\;\\;\\;\\;\\;\\;\\;\\;\\;\\;\\;\\;$  Course 9 - Applied Data Science Capstone\n#  $\\;\\;\\;\\;\\;\\;\\;\\;\\;\\;\\;\\;\\;\\;\\;\\;\\;\\;\\;\\;\\;\\;\\;\\;\\;\\;\\;\\;\\;\\;\\;\\;\\;\\;\\;$  Stefanos Nikolas Yiallouros\n#  $\\;\\;\\;\\;\\;\\;\\;\\;\\;\\;\\;\\;\\;\\;\\;\\;\\;\\;\\;\\;\\;\\;\\;\\;\\;\\;\\;\\;\\;\\;\\;\\;\\;\\;\\;\\;\\;\\;\\;\\;\\;\\;\\;\\;\\;\\;\\;$  Week 5.3 \n# $\\;\\;\\;\\;\\;\\;\\;\\;\\;\\;\\;\\;\\;\\;\\;\\;\\;\\;\\;\\;\\;\\;\\;\\;\\;$ Capstone Project - Link of IBM Watson Studio\n# $\\;\\;\\;\\;$The Battle of Neighborhoods \u2013 Finding a Better Place in Scarborough, Toronto "
        },
        {
            "metadata": {},
            "cell_type": "markdown",
            "source": "IBM Watson Studio = https://eu-gb.dataplatform.cloud.ibm.com/analytics/notebooks/v2/4daa90dc-a7c3-45fe-8073-e1eae4cf3ad4/view?access_token=61350e8cc5db9e1f32958d2a815cbb1e8458f69b569c595921a13651b9b98d66"
        },
        {
            "metadata": {},
            "cell_type": "markdown",
            "source": "IBM Watson Studio - Project Report = https://eu-gb.dataplatform.cloud.ibm.com/analytics/notebooks/v2/54073efa-0211-44e4-b0c4-5db7cd5b7834/view?access_token=bfcf27f7653eb8407edfb55563ed2b8aea6a8c3f80b9d0bc23e0767fadd9e106"
        },
        {
            "metadata": {},
            "cell_type": "code",
            "source": "",
            "execution_count": null,
            "outputs": []
        }
    ],
    "metadata": {
        "kernelspec": {
            "name": "python3",
            "display_name": "Python 3.6",
            "language": "python"
        },
        "language_info": {
            "name": "python",
            "version": "3.6.9",
            "mimetype": "text/x-python",
            "codemirror_mode": {
                "name": "ipython",
                "version": 3
            },
            "pygments_lexer": "ipython3",
            "nbconvert_exporter": "python",
            "file_extension": ".py"
        }
    },
    "nbformat": 4,
    "nbformat_minor": 1
}